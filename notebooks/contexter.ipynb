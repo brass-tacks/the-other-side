{
 "cells": [
  {
   "cell_type": "code",
   "execution_count": 9,
   "metadata": {},
   "outputs": [],
   "source": [
    "import pandas as pd\n",
    "import re"
   ]
  },
  {
   "cell_type": "markdown",
   "metadata": {},
   "source": [
    "# Load Moral Foundations Dictionary"
   ]
  },
  {
   "cell_type": "code",
   "execution_count": 14,
   "metadata": {},
   "outputs": [],
   "source": [
    "def get_pattern(word):\n",
    "    if '*' in word:\n",
    "        word = word.replace('*', '\\w*')\n",
    "    return re.compile(\n",
    "        '[^.?!]*[.?!][^.?!]*(?<=[.?\\s!])' +\n",
    "        word +\n",
    "        '(?=[\\s.?!])[^.?!]*[.?!][^.?!]*[.?!]'\n",
    "    )\n",
    "\n",
    "def load_mf_dict():\n",
    "    foundations = []\n",
    "    words = []\n",
    "    with open('../data/mf_dict.txt') as mfd:\n",
    "        lines = list(filter(None, mfd.read().split('\\n')[1:]))\n",
    "        lines = [x.strip() for x in lines]\n",
    "        divider = lines.index('%')\n",
    "        header, keywords = lines[:divider], lines[divider+1:]\n",
    "        for line in header:\n",
    "            foundations.append(line.split('\\t')[1])\n",
    "        for line in keywords:\n",
    "            line = line.split('\\t')\n",
    "            word = line[0]\n",
    "            words.append({\n",
    "                'word': word,\n",
    "                'foundations': [int(x) for x in line[1].split(' ')],\n",
    "                'pattern': get_pattern(word),\n",
    "                'instances': []\n",
    "            })\n",
    "    return foundations, words\n",
    "\n",
    "FOUNDATIONS, WORDS = load_mf_dict()"
   ]
  }
 ],
 "metadata": {
  "kernelspec": {
   "display_name": "Python 3",
   "language": "python",
   "name": "python3"
  },
  "language_info": {
   "codemirror_mode": {
    "name": "ipython",
    "version": 3
   },
   "file_extension": ".py",
   "mimetype": "text/x-python",
   "name": "python",
   "nbconvert_exporter": "python",
   "pygments_lexer": "ipython3",
   "version": "3.7.0"
  }
 },
 "nbformat": 4,
 "nbformat_minor": 2
}
